{
  "nbformat": 4,
  "nbformat_minor": 0,
  "metadata": {
    "colab": {
      "name": "2_Estrutura_dados.ipynb",
      "provenance": [],
      "collapsed_sections": []
    },
    "kernelspec": {
      "name": "python3",
      "display_name": "Python 3"
    }
  },
  "cells": [
    {
      "cell_type": "code",
      "metadata": {
        "id": "XHAFPHWmfFoB",
        "colab": {
          "base_uri": "https://localhost:8080/"
        },
        "outputId": "7872eab5-6fc9-47df-d390-70921b9fe24d"
      },
      "source": [
        "#Lista\n",
        "animais = [1,2,3]\n",
        "animais"
      ],
      "execution_count": null,
      "outputs": [
        {
          "output_type": "execute_result",
          "data": {
            "text/plain": [
              "[1, 2, 3]"
            ]
          },
          "metadata": {
            "tags": []
          },
          "execution_count": 46
        }
      ]
    },
    {
      "cell_type": "code",
      "metadata": {
        "id": "5v-w_ftdga0J",
        "colab": {
          "base_uri": "https://localhost:8080/"
        },
        "outputId": "98b9c2bd-10a4-46e8-f38f-0ab2976c25d7"
      },
      "source": [
        "animais = [\"cachorro\", \"gato\", 12345, 6.5]\n",
        "animais"
      ],
      "execution_count": null,
      "outputs": [
        {
          "output_type": "execute_result",
          "data": {
            "text/plain": [
              "['cachorro', 'gato', 12345, 6.5]"
            ]
          },
          "metadata": {
            "tags": []
          },
          "execution_count": 47
        }
      ]
    },
    {
      "cell_type": "code",
      "metadata": {
        "id": "bJkOFrGfgrKR",
        "colab": {
          "base_uri": "https://localhost:8080/",
          "height": 35
        },
        "outputId": "4558a8c7-09ae-4e78-eb4b-9d93eab4968e"
      },
      "source": [
        "animais[0]"
      ],
      "execution_count": null,
      "outputs": [
        {
          "output_type": "execute_result",
          "data": {
            "application/vnd.google.colaboratory.intrinsic+json": {
              "type": "string"
            },
            "text/plain": [
              "'cachorro'"
            ]
          },
          "metadata": {
            "tags": []
          },
          "execution_count": 48
        }
      ]
    },
    {
      "cell_type": "code",
      "metadata": {
        "id": "M-2mXu3mgvuS",
        "colab": {
          "base_uri": "https://localhost:8080/"
        },
        "outputId": "46b8c981-21a5-4783-eacd-3712848a6829"
      },
      "source": [
        "animais[3]"
      ],
      "execution_count": null,
      "outputs": [
        {
          "output_type": "execute_result",
          "data": {
            "text/plain": [
              "6.5"
            ]
          },
          "metadata": {
            "tags": []
          },
          "execution_count": 49
        }
      ]
    },
    {
      "cell_type": "code",
      "metadata": {
        "id": "RDCW4hs_gxyT"
      },
      "source": [
        "animais[0] = \"papagaio\""
      ],
      "execution_count": null,
      "outputs": []
    },
    {
      "cell_type": "code",
      "metadata": {
        "id": "QJrP-830gzvh",
        "colab": {
          "base_uri": "https://localhost:8080/"
        },
        "outputId": "0b69d63c-7901-40c0-eccd-177dfc68bf4e"
      },
      "source": [
        "animais"
      ],
      "execution_count": null,
      "outputs": [
        {
          "output_type": "execute_result",
          "data": {
            "text/plain": [
              "['papagaio', 'gato', 12345, 6.5]"
            ]
          },
          "metadata": {
            "tags": []
          },
          "execution_count": 51
        }
      ]
    },
    {
      "cell_type": "code",
      "metadata": {
        "id": "3QFbAI6Og0wP"
      },
      "source": [
        "animais.remove('gato')"
      ],
      "execution_count": null,
      "outputs": []
    },
    {
      "cell_type": "code",
      "metadata": {
        "id": "b8g1bs42g31p",
        "colab": {
          "base_uri": "https://localhost:8080/"
        },
        "outputId": "d4950ab2-005a-4edf-bb4b-d510dffeeb46"
      },
      "source": [
        "animais"
      ],
      "execution_count": null,
      "outputs": [
        {
          "output_type": "execute_result",
          "data": {
            "text/plain": [
              "['papagaio', 12345, 6.5]"
            ]
          },
          "metadata": {
            "tags": []
          },
          "execution_count": 53
        }
      ]
    },
    {
      "cell_type": "code",
      "metadata": {
        "id": "xfu4p_g3g7OS",
        "colab": {
          "base_uri": "https://localhost:8080/"
        },
        "outputId": "17ae3057-e164-45fa-bd30-0f6c3d06b94d"
      },
      "source": [
        "len(animais)"
      ],
      "execution_count": null,
      "outputs": [
        {
          "output_type": "execute_result",
          "data": {
            "text/plain": [
              "3"
            ]
          },
          "metadata": {
            "tags": []
          },
          "execution_count": 54
        }
      ]
    },
    {
      "cell_type": "code",
      "metadata": {
        "id": "0HedcjoFg-5m",
        "colab": {
          "base_uri": "https://localhost:8080/"
        },
        "outputId": "614f4a3a-4dcd-4c62-b0e1-2617cef5ff7d"
      },
      "source": [
        "\"gato\" in animais"
      ],
      "execution_count": null,
      "outputs": [
        {
          "output_type": "execute_result",
          "data": {
            "text/plain": [
              "False"
            ]
          },
          "metadata": {
            "tags": []
          },
          "execution_count": 55
        }
      ]
    },
    {
      "cell_type": "code",
      "metadata": {
        "id": "VDZ6nZU2hDdf"
      },
      "source": [
        "lista = [500, 30, 300, 80, 10]"
      ],
      "execution_count": null,
      "outputs": []
    },
    {
      "cell_type": "code",
      "metadata": {
        "id": "VjrYRfHJhGhL",
        "colab": {
          "base_uri": "https://localhost:8080/"
        },
        "outputId": "ab4b36e0-0656-4466-e0e7-96f9ca95f470"
      },
      "source": [
        "max(lista)"
      ],
      "execution_count": null,
      "outputs": [
        {
          "output_type": "execute_result",
          "data": {
            "text/plain": [
              "500"
            ]
          },
          "metadata": {
            "tags": []
          },
          "execution_count": 57
        }
      ]
    },
    {
      "cell_type": "code",
      "metadata": {
        "id": "jkeXKWQPhJRr",
        "colab": {
          "base_uri": "https://localhost:8080/"
        },
        "outputId": "5149af70-ab31-4da4-d2dc-1a69a7e91314"
      },
      "source": [
        "min(lista)"
      ],
      "execution_count": null,
      "outputs": [
        {
          "output_type": "execute_result",
          "data": {
            "text/plain": [
              "10"
            ]
          },
          "metadata": {
            "tags": []
          },
          "execution_count": 58
        }
      ]
    },
    {
      "cell_type": "code",
      "metadata": {
        "id": "20T_hCwAhMsU"
      },
      "source": [
        "animais.append([\"leão\", \"Cachorro\"])"
      ],
      "execution_count": null,
      "outputs": []
    },
    {
      "cell_type": "code",
      "metadata": {
        "id": "WgWWMNJXhQdB",
        "colab": {
          "base_uri": "https://localhost:8080/"
        },
        "outputId": "ce66aaa9-5463-4b7f-872d-ed2fd01de6f9"
      },
      "source": [
        "animais"
      ],
      "execution_count": null,
      "outputs": [
        {
          "output_type": "execute_result",
          "data": {
            "text/plain": [
              "['papagaio', 12345, 6.5, ['leão', 'Cachorro']]"
            ]
          },
          "metadata": {
            "tags": []
          },
          "execution_count": 60
        }
      ]
    },
    {
      "cell_type": "code",
      "metadata": {
        "id": "Cl-M69f5hSsD"
      },
      "source": [
        "animais.extend([\"cobra\", 6])"
      ],
      "execution_count": null,
      "outputs": []
    },
    {
      "cell_type": "code",
      "metadata": {
        "id": "_scJEZbWMFBW",
        "colab": {
          "base_uri": "https://localhost:8080/"
        },
        "outputId": "e2f4d95a-f996-48a0-86d7-2d0339f28fe8"
      },
      "source": [
        "animais"
      ],
      "execution_count": null,
      "outputs": [
        {
          "output_type": "execute_result",
          "data": {
            "text/plain": [
              "['papagaio', 12345, 6.5, ['leão', 'Cachorro'], 'cobra', 6]"
            ]
          },
          "metadata": {
            "tags": []
          },
          "execution_count": 62
        }
      ]
    },
    {
      "cell_type": "code",
      "metadata": {
        "id": "kNn0DiyxheHC",
        "colab": {
          "base_uri": "https://localhost:8080/"
        },
        "outputId": "c667c89c-c65d-4138-a925-5210739782d3"
      },
      "source": [
        "animais.count(\"leão\")"
      ],
      "execution_count": null,
      "outputs": [
        {
          "output_type": "execute_result",
          "data": {
            "text/plain": [
              "0"
            ]
          },
          "metadata": {
            "tags": []
          },
          "execution_count": 63
        }
      ]
    },
    {
      "cell_type": "code",
      "metadata": {
        "id": "VgoLBevzhinC"
      },
      "source": [
        "lista.sort()"
      ],
      "execution_count": null,
      "outputs": []
    },
    {
      "cell_type": "code",
      "metadata": {
        "id": "mPJTKqXMhrDB",
        "colab": {
          "base_uri": "https://localhost:8080/"
        },
        "outputId": "8a733c6a-7050-41e6-9a6c-855944bbc47f"
      },
      "source": [
        "lista"
      ],
      "execution_count": null,
      "outputs": [
        {
          "output_type": "execute_result",
          "data": {
            "text/plain": [
              "[10, 30, 80, 300, 500]"
            ]
          },
          "metadata": {
            "tags": []
          },
          "execution_count": 65
        }
      ]
    },
    {
      "cell_type": "code",
      "metadata": {
        "id": "Qrv07mzWocDT"
      },
      "source": [
        "tp = (\"Banana\", \"Maçã\", 10, 50)"
      ],
      "execution_count": null,
      "outputs": []
    },
    {
      "cell_type": "code",
      "metadata": {
        "id": "r7ZMMLn8pt7R",
        "colab": {
          "base_uri": "https://localhost:8080/",
          "height": 35
        },
        "outputId": "572b458f-fd85-451e-bd81-9839c2239566"
      },
      "source": [
        "tp[0]"
      ],
      "execution_count": null,
      "outputs": [
        {
          "output_type": "execute_result",
          "data": {
            "application/vnd.google.colaboratory.intrinsic+json": {
              "type": "string"
            },
            "text/plain": [
              "'Banana'"
            ]
          },
          "metadata": {
            "tags": []
          },
          "execution_count": 67
        }
      ]
    },
    {
      "cell_type": "code",
      "metadata": {
        "id": "jKRnh-DbpzBj",
        "colab": {
          "base_uri": "https://localhost:8080/",
          "height": 162
        },
        "outputId": "42e0032b-f3a6-42a1-91c4-1056f8efd098"
      },
      "source": [
        "tp[0] = \"Laranja\""
      ],
      "execution_count": null,
      "outputs": [
        {
          "output_type": "error",
          "ename": "TypeError",
          "evalue": "ignored",
          "traceback": [
            "\u001b[0;31m---------------------------------------------------------------------------\u001b[0m",
            "\u001b[0;31mTypeError\u001b[0m                                 Traceback (most recent call last)",
            "\u001b[0;32m<ipython-input-79-37f4fcd7b828>\u001b[0m in \u001b[0;36m<module>\u001b[0;34m()\u001b[0m\n\u001b[0;32m----> 1\u001b[0;31m \u001b[0mtp\u001b[0m\u001b[0;34m[\u001b[0m\u001b[0;36m0\u001b[0m\u001b[0;34m]\u001b[0m \u001b[0;34m=\u001b[0m \u001b[0;34m\"Laranja\"\u001b[0m\u001b[0;34m\u001b[0m\u001b[0;34m\u001b[0m\u001b[0m\n\u001b[0m",
            "\u001b[0;31mTypeError\u001b[0m: 'tuple' object does not support item assignment"
          ]
        }
      ]
    },
    {
      "cell_type": "code",
      "metadata": {
        "id": "a-KaNhePE0nb",
        "colab": {
          "base_uri": "https://localhost:8080/"
        },
        "outputId": "1c634037-b768-4760-8e44-49e610051951"
      },
      "source": [
        "tp.count(\"Maçã\")"
      ],
      "execution_count": null,
      "outputs": [
        {
          "output_type": "execute_result",
          "data": {
            "text/plain": [
              "1"
            ]
          },
          "metadata": {
            "tags": []
          },
          "execution_count": 69
        }
      ]
    },
    {
      "cell_type": "code",
      "metadata": {
        "id": "ntXTi7MaFAX7",
        "colab": {
          "base_uri": "https://localhost:8080/"
        },
        "outputId": "d06c6428-673a-4daf-a166-34b8c654fdda"
      },
      "source": [
        "tp[0:2]"
      ],
      "execution_count": null,
      "outputs": [
        {
          "output_type": "execute_result",
          "data": {
            "text/plain": [
              "('Banana', 'Maçã')"
            ]
          },
          "metadata": {
            "tags": []
          },
          "execution_count": 70
        }
      ]
    },
    {
      "cell_type": "code",
      "metadata": {
        "id": "43OFknPUFO68"
      },
      "source": [
        "#Dicionario\n",
        "dc = {\"Maçã\":20, \"Banana\":10, \"Laranja\":15, \"Uva\":5}"
      ],
      "execution_count": null,
      "outputs": []
    },
    {
      "cell_type": "code",
      "metadata": {
        "id": "dCH9PefxGBdZ",
        "colab": {
          "base_uri": "https://localhost:8080/"
        },
        "outputId": "efc34393-5bfe-4b10-f233-1bd344c745e6"
      },
      "source": [
        "dc"
      ],
      "execution_count": null,
      "outputs": [
        {
          "output_type": "execute_result",
          "data": {
            "text/plain": [
              "{'Banana': 10, 'Laranja': 15, 'Maçã': 20, 'Uva': 5}"
            ]
          },
          "metadata": {
            "tags": []
          },
          "execution_count": 72
        }
      ]
    },
    {
      "cell_type": "code",
      "metadata": {
        "id": "iyGxfz72FxNa",
        "colab": {
          "base_uri": "https://localhost:8080/"
        },
        "outputId": "3ec7e792-38ca-4f63-e7cb-0c7752d7404a"
      },
      "source": [
        "dc[\"Maçã\"]"
      ],
      "execution_count": null,
      "outputs": [
        {
          "output_type": "execute_result",
          "data": {
            "text/plain": [
              "20"
            ]
          },
          "metadata": {
            "tags": []
          },
          "execution_count": 73
        }
      ]
    },
    {
      "cell_type": "code",
      "metadata": {
        "id": "6WwkohdpF5Cq",
        "colab": {
          "base_uri": "https://localhost:8080/"
        },
        "outputId": "ba64ebde-833e-4b31-985b-c0dbb354ffb8"
      },
      "source": [
        "dc[\"Maçã\"] = 25\n",
        "dc"
      ],
      "execution_count": null,
      "outputs": [
        {
          "output_type": "execute_result",
          "data": {
            "text/plain": [
              "{'Banana': 10, 'Laranja': 15, 'Maçã': 25, 'Uva': 5}"
            ]
          },
          "metadata": {
            "tags": []
          },
          "execution_count": 74
        }
      ]
    },
    {
      "cell_type": "code",
      "metadata": {
        "id": "_50MV-XaGFae",
        "colab": {
          "base_uri": "https://localhost:8080/"
        },
        "outputId": "ef69e32f-c561-4a95-e432-3a89e99e2d3a"
      },
      "source": [
        "dc.keys()"
      ],
      "execution_count": null,
      "outputs": [
        {
          "output_type": "execute_result",
          "data": {
            "text/plain": [
              "dict_keys(['Maçã', 'Banana', 'Laranja', 'Uva'])"
            ]
          },
          "metadata": {
            "tags": []
          },
          "execution_count": 75
        }
      ]
    },
    {
      "cell_type": "code",
      "metadata": {
        "id": "AHLXfikMGRS4",
        "colab": {
          "base_uri": "https://localhost:8080/"
        },
        "outputId": "6edb9720-9fe8-4009-e10b-bbc784ddd027"
      },
      "source": [
        "dc.values()"
      ],
      "execution_count": null,
      "outputs": [
        {
          "output_type": "execute_result",
          "data": {
            "text/plain": [
              "dict_values([25, 10, 15, 5])"
            ]
          },
          "metadata": {
            "tags": []
          },
          "execution_count": 76
        }
      ]
    },
    {
      "cell_type": "code",
      "metadata": {
        "id": "co2yQ4IrGX8n",
        "colab": {
          "base_uri": "https://localhost:8080/"
        },
        "outputId": "06d49295-b27d-4706-9946-e537a7edb3a2"
      },
      "source": [
        "dc.setdefault(\"Limão\", 22)"
      ],
      "execution_count": null,
      "outputs": [
        {
          "output_type": "execute_result",
          "data": {
            "text/plain": [
              "22"
            ]
          },
          "metadata": {
            "tags": []
          },
          "execution_count": 77
        }
      ]
    },
    {
      "cell_type": "code",
      "metadata": {
        "id": "M9_v4jAZGyz6",
        "colab": {
          "base_uri": "https://localhost:8080/"
        },
        "outputId": "10f6fdad-a94e-454b-f9e8-a5ebb766df17"
      },
      "source": [
        "dc"
      ],
      "execution_count": null,
      "outputs": [
        {
          "output_type": "execute_result",
          "data": {
            "text/plain": [
              "{'Banana': 10, 'Laranja': 15, 'Limão': 22, 'Maçã': 25, 'Uva': 5}"
            ]
          },
          "metadata": {
            "tags": []
          },
          "execution_count": 78
        }
      ]
    },
    {
      "cell_type": "code",
      "metadata": {
        "id": "l2-4mE1LG0CC"
      },
      "source": [
        ""
      ],
      "execution_count": null,
      "outputs": []
    }
  ]
}